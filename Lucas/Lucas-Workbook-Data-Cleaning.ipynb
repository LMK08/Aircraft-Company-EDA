{
 "cells": [
  {
   "cell_type": "code",
   "execution_count": 3,
   "id": "c09fa551",
   "metadata": {},
   "outputs": [],
   "source": [
    "import pandas as pd \n",
    "import warnings"
   ]
  },
  {
   "cell_type": "code",
   "execution_count": 4,
   "id": "8266cb6b",
   "metadata": {},
   "outputs": [],
   "source": [
    "# Remove red warning pop-up \n",
    "warnings.filterwarnings('ignore')"
   ]
  },
  {
   "cell_type": "code",
   "execution_count": 5,
   "id": "2ef4f01f",
   "metadata": {},
   "outputs": [
    {
     "name": "stdout",
     "output_type": "stream",
     "text": [
      "AviationData.csv           Untitled.ipynb\r\n",
      "NEW_cleaned_aviation.csv   cleaned_aviation_data.csv\r\n",
      "USState_Codes.csv          cleaned_aviation_data1.csv\r\n"
     ]
    }
   ],
   "source": [
    "! ls ../archive"
   ]
  },
  {
   "cell_type": "code",
   "execution_count": 6,
   "id": "7f4111ae",
   "metadata": {},
   "outputs": [],
   "source": [
    "# Read in data file, ensuring the encoding is set so it doesn't throw an error\n",
    "df = pd.read_csv('../archive/AviationData.csv', encoding = 'latin1')"
   ]
  },
  {
   "cell_type": "code",
   "execution_count": 7,
   "id": "06284ebd",
   "metadata": {},
   "outputs": [
    {
     "data": {
      "text/html": [
       "<div>\n",
       "<style scoped>\n",
       "    .dataframe tbody tr th:only-of-type {\n",
       "        vertical-align: middle;\n",
       "    }\n",
       "\n",
       "    .dataframe tbody tr th {\n",
       "        vertical-align: top;\n",
       "    }\n",
       "\n",
       "    .dataframe thead th {\n",
       "        text-align: right;\n",
       "    }\n",
       "</style>\n",
       "<table border=\"1\" class=\"dataframe\">\n",
       "  <thead>\n",
       "    <tr style=\"text-align: right;\">\n",
       "      <th></th>\n",
       "      <th>Event.Id</th>\n",
       "      <th>Investigation.Type</th>\n",
       "      <th>Accident.Number</th>\n",
       "      <th>Event.Date</th>\n",
       "      <th>Location</th>\n",
       "      <th>Country</th>\n",
       "      <th>Latitude</th>\n",
       "      <th>Longitude</th>\n",
       "      <th>Airport.Code</th>\n",
       "      <th>Airport.Name</th>\n",
       "      <th>...</th>\n",
       "      <th>Purpose.of.flight</th>\n",
       "      <th>Air.carrier</th>\n",
       "      <th>Total.Fatal.Injuries</th>\n",
       "      <th>Total.Serious.Injuries</th>\n",
       "      <th>Total.Minor.Injuries</th>\n",
       "      <th>Total.Uninjured</th>\n",
       "      <th>Weather.Condition</th>\n",
       "      <th>Broad.phase.of.flight</th>\n",
       "      <th>Report.Status</th>\n",
       "      <th>Publication.Date</th>\n",
       "    </tr>\n",
       "  </thead>\n",
       "  <tbody>\n",
       "    <tr>\n",
       "      <th>0</th>\n",
       "      <td>20001218X45444</td>\n",
       "      <td>Accident</td>\n",
       "      <td>SEA87LA080</td>\n",
       "      <td>1948-10-24</td>\n",
       "      <td>MOOSE CREEK, ID</td>\n",
       "      <td>United States</td>\n",
       "      <td>NaN</td>\n",
       "      <td>NaN</td>\n",
       "      <td>NaN</td>\n",
       "      <td>NaN</td>\n",
       "      <td>...</td>\n",
       "      <td>Personal</td>\n",
       "      <td>NaN</td>\n",
       "      <td>2.0</td>\n",
       "      <td>0.0</td>\n",
       "      <td>0.0</td>\n",
       "      <td>0.0</td>\n",
       "      <td>UNK</td>\n",
       "      <td>Cruise</td>\n",
       "      <td>Probable Cause</td>\n",
       "      <td>NaN</td>\n",
       "    </tr>\n",
       "    <tr>\n",
       "      <th>1</th>\n",
       "      <td>20001218X45447</td>\n",
       "      <td>Accident</td>\n",
       "      <td>LAX94LA336</td>\n",
       "      <td>1962-07-19</td>\n",
       "      <td>BRIDGEPORT, CA</td>\n",
       "      <td>United States</td>\n",
       "      <td>NaN</td>\n",
       "      <td>NaN</td>\n",
       "      <td>NaN</td>\n",
       "      <td>NaN</td>\n",
       "      <td>...</td>\n",
       "      <td>Personal</td>\n",
       "      <td>NaN</td>\n",
       "      <td>4.0</td>\n",
       "      <td>0.0</td>\n",
       "      <td>0.0</td>\n",
       "      <td>0.0</td>\n",
       "      <td>UNK</td>\n",
       "      <td>Unknown</td>\n",
       "      <td>Probable Cause</td>\n",
       "      <td>19-09-1996</td>\n",
       "    </tr>\n",
       "    <tr>\n",
       "      <th>2</th>\n",
       "      <td>20061025X01555</td>\n",
       "      <td>Accident</td>\n",
       "      <td>NYC07LA005</td>\n",
       "      <td>1974-08-30</td>\n",
       "      <td>Saltville, VA</td>\n",
       "      <td>United States</td>\n",
       "      <td>36.922223</td>\n",
       "      <td>-81.878056</td>\n",
       "      <td>NaN</td>\n",
       "      <td>NaN</td>\n",
       "      <td>...</td>\n",
       "      <td>Personal</td>\n",
       "      <td>NaN</td>\n",
       "      <td>3.0</td>\n",
       "      <td>NaN</td>\n",
       "      <td>NaN</td>\n",
       "      <td>NaN</td>\n",
       "      <td>IMC</td>\n",
       "      <td>Cruise</td>\n",
       "      <td>Probable Cause</td>\n",
       "      <td>26-02-2007</td>\n",
       "    </tr>\n",
       "    <tr>\n",
       "      <th>3</th>\n",
       "      <td>20001218X45448</td>\n",
       "      <td>Accident</td>\n",
       "      <td>LAX96LA321</td>\n",
       "      <td>1977-06-19</td>\n",
       "      <td>EUREKA, CA</td>\n",
       "      <td>United States</td>\n",
       "      <td>NaN</td>\n",
       "      <td>NaN</td>\n",
       "      <td>NaN</td>\n",
       "      <td>NaN</td>\n",
       "      <td>...</td>\n",
       "      <td>Personal</td>\n",
       "      <td>NaN</td>\n",
       "      <td>2.0</td>\n",
       "      <td>0.0</td>\n",
       "      <td>0.0</td>\n",
       "      <td>0.0</td>\n",
       "      <td>IMC</td>\n",
       "      <td>Cruise</td>\n",
       "      <td>Probable Cause</td>\n",
       "      <td>12-09-2000</td>\n",
       "    </tr>\n",
       "    <tr>\n",
       "      <th>4</th>\n",
       "      <td>20041105X01764</td>\n",
       "      <td>Accident</td>\n",
       "      <td>CHI79FA064</td>\n",
       "      <td>1979-08-02</td>\n",
       "      <td>Canton, OH</td>\n",
       "      <td>United States</td>\n",
       "      <td>NaN</td>\n",
       "      <td>NaN</td>\n",
       "      <td>NaN</td>\n",
       "      <td>NaN</td>\n",
       "      <td>...</td>\n",
       "      <td>Personal</td>\n",
       "      <td>NaN</td>\n",
       "      <td>1.0</td>\n",
       "      <td>2.0</td>\n",
       "      <td>NaN</td>\n",
       "      <td>0.0</td>\n",
       "      <td>VMC</td>\n",
       "      <td>Approach</td>\n",
       "      <td>Probable Cause</td>\n",
       "      <td>16-04-1980</td>\n",
       "    </tr>\n",
       "  </tbody>\n",
       "</table>\n",
       "<p>5 rows × 31 columns</p>\n",
       "</div>"
      ],
      "text/plain": [
       "         Event.Id Investigation.Type Accident.Number  Event.Date  \\\n",
       "0  20001218X45444           Accident      SEA87LA080  1948-10-24   \n",
       "1  20001218X45447           Accident      LAX94LA336  1962-07-19   \n",
       "2  20061025X01555           Accident      NYC07LA005  1974-08-30   \n",
       "3  20001218X45448           Accident      LAX96LA321  1977-06-19   \n",
       "4  20041105X01764           Accident      CHI79FA064  1979-08-02   \n",
       "\n",
       "          Location        Country   Latitude  Longitude Airport.Code  \\\n",
       "0  MOOSE CREEK, ID  United States        NaN        NaN          NaN   \n",
       "1   BRIDGEPORT, CA  United States        NaN        NaN          NaN   \n",
       "2    Saltville, VA  United States  36.922223 -81.878056          NaN   \n",
       "3       EUREKA, CA  United States        NaN        NaN          NaN   \n",
       "4       Canton, OH  United States        NaN        NaN          NaN   \n",
       "\n",
       "  Airport.Name  ... Purpose.of.flight Air.carrier Total.Fatal.Injuries  \\\n",
       "0          NaN  ...          Personal         NaN                  2.0   \n",
       "1          NaN  ...          Personal         NaN                  4.0   \n",
       "2          NaN  ...          Personal         NaN                  3.0   \n",
       "3          NaN  ...          Personal         NaN                  2.0   \n",
       "4          NaN  ...          Personal         NaN                  1.0   \n",
       "\n",
       "  Total.Serious.Injuries Total.Minor.Injuries Total.Uninjured  \\\n",
       "0                    0.0                  0.0             0.0   \n",
       "1                    0.0                  0.0             0.0   \n",
       "2                    NaN                  NaN             NaN   \n",
       "3                    0.0                  0.0             0.0   \n",
       "4                    2.0                  NaN             0.0   \n",
       "\n",
       "  Weather.Condition  Broad.phase.of.flight   Report.Status Publication.Date  \n",
       "0               UNK                 Cruise  Probable Cause              NaN  \n",
       "1               UNK                Unknown  Probable Cause       19-09-1996  \n",
       "2               IMC                 Cruise  Probable Cause       26-02-2007  \n",
       "3               IMC                 Cruise  Probable Cause       12-09-2000  \n",
       "4               VMC               Approach  Probable Cause       16-04-1980  \n",
       "\n",
       "[5 rows x 31 columns]"
      ]
     },
     "execution_count": 7,
     "metadata": {},
     "output_type": "execute_result"
    }
   ],
   "source": [
    "# Check out Data\n",
    "df.head()"
   ]
  },
  {
   "cell_type": "code",
   "execution_count": 8,
   "id": "6e3acad4",
   "metadata": {},
   "outputs": [
    {
     "name": "stdout",
     "output_type": "stream",
     "text": [
      "<class 'pandas.core.frame.DataFrame'>\n",
      "RangeIndex: 88889 entries, 0 to 88888\n",
      "Data columns (total 31 columns):\n",
      " #   Column                  Non-Null Count  Dtype  \n",
      "---  ------                  --------------  -----  \n",
      " 0   Event.Id                88889 non-null  object \n",
      " 1   Investigation.Type      88889 non-null  object \n",
      " 2   Accident.Number         88889 non-null  object \n",
      " 3   Event.Date              88889 non-null  object \n",
      " 4   Location                88837 non-null  object \n",
      " 5   Country                 88663 non-null  object \n",
      " 6   Latitude                34382 non-null  object \n",
      " 7   Longitude               34373 non-null  object \n",
      " 8   Airport.Code            50249 non-null  object \n",
      " 9   Airport.Name            52790 non-null  object \n",
      " 10  Injury.Severity         87889 non-null  object \n",
      " 11  Aircraft.damage         85695 non-null  object \n",
      " 12  Aircraft.Category       32287 non-null  object \n",
      " 13  Registration.Number     87572 non-null  object \n",
      " 14  Make                    88826 non-null  object \n",
      " 15  Model                   88797 non-null  object \n",
      " 16  Amateur.Built           88787 non-null  object \n",
      " 17  Number.of.Engines       82805 non-null  float64\n",
      " 18  Engine.Type             81812 non-null  object \n",
      " 19  FAR.Description         32023 non-null  object \n",
      " 20  Schedule                12582 non-null  object \n",
      " 21  Purpose.of.flight       82697 non-null  object \n",
      " 22  Air.carrier             16648 non-null  object \n",
      " 23  Total.Fatal.Injuries    77488 non-null  float64\n",
      " 24  Total.Serious.Injuries  76379 non-null  float64\n",
      " 25  Total.Minor.Injuries    76956 non-null  float64\n",
      " 26  Total.Uninjured         82977 non-null  float64\n",
      " 27  Weather.Condition       84397 non-null  object \n",
      " 28  Broad.phase.of.flight   61724 non-null  object \n",
      " 29  Report.Status           82508 non-null  object \n",
      " 30  Publication.Date        75118 non-null  object \n",
      "dtypes: float64(5), object(26)\n",
      "memory usage: 21.0+ MB\n"
     ]
    }
   ],
   "source": [
    "# View the number of columns, as well as their data types\n",
    "df.info()"
   ]
  },
  {
   "cell_type": "code",
   "execution_count": 9,
   "id": "d21a48bd",
   "metadata": {},
   "outputs": [
    {
     "data": {
      "text/plain": [
       "Event.Id                      0\n",
       "Investigation.Type            0\n",
       "Accident.Number               0\n",
       "Event.Date                    0\n",
       "Location                     52\n",
       "Country                     226\n",
       "Latitude                  54507\n",
       "Longitude                 54516\n",
       "Airport.Code              38640\n",
       "Airport.Name              36099\n",
       "Injury.Severity            1000\n",
       "Aircraft.damage            3194\n",
       "Aircraft.Category         56602\n",
       "Registration.Number        1317\n",
       "Make                         63\n",
       "Model                        92\n",
       "Amateur.Built               102\n",
       "Number.of.Engines          6084\n",
       "Engine.Type                7077\n",
       "FAR.Description           56866\n",
       "Schedule                  76307\n",
       "Purpose.of.flight          6192\n",
       "Air.carrier               72241\n",
       "Total.Fatal.Injuries      11401\n",
       "Total.Serious.Injuries    12510\n",
       "Total.Minor.Injuries      11933\n",
       "Total.Uninjured            5912\n",
       "Weather.Condition          4492\n",
       "Broad.phase.of.flight     27165\n",
       "Report.Status              6381\n",
       "Publication.Date          13771\n",
       "dtype: int64"
      ]
     },
     "execution_count": 9,
     "metadata": {},
     "output_type": "execute_result"
    }
   ],
   "source": [
    "# View the number of NaNs for each column.\n",
    "df.isna().sum()"
   ]
  },
  {
   "cell_type": "code",
   "execution_count": 10,
   "id": "f8abae71",
   "metadata": {},
   "outputs": [],
   "source": [
    "# Calculate the percentage of values being NaN for each column\n",
    "rows = len(df)\n",
    "missing = df.isna().sum()\n",
    "percentage_missing = missing / rows"
   ]
  },
  {
   "cell_type": "code",
   "execution_count": 11,
   "id": "2af6985e",
   "metadata": {},
   "outputs": [],
   "source": [
    "# Put the data in a DataFrame and sort it\n",
    "percentage_missing_df = pd.DataFrame({'Missing' : percentage_missing})\n",
    "percentage_missing_df.sort_values('Missing', ascending = False, inplace = True)"
   ]
  },
  {
   "cell_type": "code",
   "execution_count": 12,
   "id": "506defca",
   "metadata": {},
   "outputs": [
    {
     "name": "stdout",
     "output_type": "stream",
     "text": [
      "                         Missing\n",
      "Schedule                0.858453\n",
      "Air.carrier             0.812710\n",
      "FAR.Description         0.639742\n",
      "Aircraft.Category       0.636772\n",
      "Longitude               0.613304\n",
      "Latitude                0.613203\n",
      "Airport.Code            0.434699\n",
      "Airport.Name            0.406113\n",
      "Broad.phase.of.flight   0.305606\n",
      "Publication.Date        0.154924\n",
      "Total.Serious.Injuries  0.140737\n",
      "Total.Minor.Injuries    0.134246\n",
      "Total.Fatal.Injuries    0.128261\n"
     ]
    }
   ],
   "source": [
    "#Show the columns with the most missing data\n",
    "print(percentage_missing_df[percentage_missing_df['Missing'] > 0.1])"
   ]
  },
  {
   "cell_type": "code",
   "execution_count": 13,
   "id": "952caba1",
   "metadata": {},
   "outputs": [
    {
     "name": "stdout",
     "output_type": "stream",
     "text": [
      "['Schedule', 'Air.carrier', 'FAR.Description', 'Aircraft.Category', 'Longitude', 'Latitude']\n"
     ]
    }
   ],
   "source": [
    "# Drop columns with over 50% missing values, Print the na\n",
    "cols_to_drop = list(percentage_missing_df[percentage_missing_df['Missing'] > 0.5].index)\n",
    "df.drop(columns = cols_to_drop, axis = 1, inplace = True)\n",
    "print(cols_to_drop)"
   ]
  },
  {
   "cell_type": "code",
   "execution_count": 14,
   "id": "6a32806d",
   "metadata": {},
   "outputs": [
    {
     "name": "stdout",
     "output_type": "stream",
     "text": [
      "8983 rows dropped.\n"
     ]
    }
   ],
   "source": [
    "# Drop records that are neither Accidents nor take place in the United States\n",
    "before = len(df)\n",
    "df = df[(df['Investigation.Type'] == 'Accident') & (df['Country'] == 'United States')]\n",
    "dropped = before - len(df)\n",
    "print(str(dropped) + ' rows dropped.')"
   ]
  },
  {
   "cell_type": "code",
   "execution_count": 15,
   "id": "54dd454b",
   "metadata": {},
   "outputs": [
    {
     "name": "stdout",
     "output_type": "stream",
     "text": [
      "<class 'pandas.core.frame.DataFrame'>\n",
      "Int64Index: 79906 entries, 0 to 88888\n",
      "Data columns (total 25 columns):\n",
      " #   Column                  Non-Null Count  Dtype         \n",
      "---  ------                  --------------  -----         \n",
      " 0   Event.Id                79906 non-null  object        \n",
      " 1   Investigation.Type      79906 non-null  object        \n",
      " 2   Accident.Number         79906 non-null  object        \n",
      " 3   Event.Date              79906 non-null  datetime64[ns]\n",
      " 4   Location                79895 non-null  object        \n",
      " 5   Country                 79906 non-null  object        \n",
      " 6   Airport.Code            47566 non-null  object        \n",
      " 7   Airport.Name            50000 non-null  object        \n",
      " 8   Injury.Severity         79854 non-null  object        \n",
      " 9   Aircraft.damage         78782 non-null  object        \n",
      " 10  Registration.Number     79903 non-null  object        \n",
      " 11  Make                    79894 non-null  object        \n",
      " 12  Model                   79877 non-null  object        \n",
      " 13  Amateur.Built           79891 non-null  object        \n",
      " 14  Number.of.Engines       78147 non-null  float64       \n",
      " 15  Engine.Type             77007 non-null  object        \n",
      " 16  Purpose.of.flight       78025 non-null  object        \n",
      " 17  Total.Fatal.Injuries    69641 non-null  float64       \n",
      " 18  Total.Serious.Injuries  68921 non-null  float64       \n",
      " 19  Total.Minor.Injuries    69551 non-null  float64       \n",
      " 20  Total.Uninjured         74911 non-null  float64       \n",
      " 21  Weather.Condition       79345 non-null  object        \n",
      " 22  Broad.phase.of.flight   59297 non-null  object        \n",
      " 23  Report.Status           77341 non-null  object        \n",
      " 24  Publication.Date        67649 non-null  object        \n",
      "dtypes: datetime64[ns](1), float64(5), object(19)\n",
      "memory usage: 15.9+ MB\n"
     ]
    }
   ],
   "source": [
    "# Convert Date to a datetime, view updated column data\n",
    "df['Event.Date'] = pd.to_datetime(df['Event.Date'])\n",
    "df.info()"
   ]
  },
  {
   "cell_type": "code",
   "execution_count": 16,
   "id": "fc9714c2",
   "metadata": {},
   "outputs": [],
   "source": [
    "#Add a day, month & year column\n",
    "df['Year'] = df['Event.Date'].dt.year\n",
    "df['Month.Abbr'] = df['Event.Date'].dt.month_name().str[:3]\n",
    "df['Day.Name.Abbr'] = df['Event.Date'].dt.day_name().str[:3]\n",
    "\n",
    "# Remove data before 2000\n",
    "df = df[df['Year'] >= 2000]"
   ]
  },
  {
   "cell_type": "code",
   "execution_count": 17,
   "id": "a11c0ac1",
   "metadata": {},
   "outputs": [
    {
     "data": {
      "text/plain": [
       "PRIVATE                           671\n",
       "NONE                              126\n",
       "North Las Vegas                    40\n",
       "PVT                                35\n",
       "Centennial Airport                 27\n",
       "                                 ... \n",
       "Charlotte                           1\n",
       "Steve Berg Field                    1\n",
       "Skyview                             1\n",
       "Lakeland                            1\n",
       "WICHITA DWIGHT D EISENHOWER NT      1\n",
       "Name: Airport.Name, Length: 12745, dtype: int64"
      ]
     },
     "execution_count": 17,
     "metadata": {},
     "output_type": "execute_result"
    }
   ],
   "source": [
    "# Merge same airport names together\n",
    "df['Airport.Name'].replace(to_replace = '(?i)^.*private.*$', value = 'PRIVATE', inplace = True, regex = True)\n",
    "df['Airport.Name'].replace(to_replace = '(?i)^.*none.*$', value = 'NONE', inplace = True, regex = True)\n",
    "df['Airport.Name'].value_counts()"
   ]
  },
  {
   "cell_type": "code",
   "execution_count": 18,
   "id": "13134005",
   "metadata": {},
   "outputs": [
    {
     "data": {
      "text/plain": [
       "NONE      119\n",
       "UNREG     114\n",
       "N5408Y      5\n",
       "N8402K      5\n",
       "N121CC      5\n",
       "         ... \n",
       "N9709       1\n",
       "N6134X      1\n",
       "N1410C      1\n",
       "N248PC      1\n",
       "N9026P      1\n",
       "Name: Registration.Number, Length: 32976, dtype: int64"
      ]
     },
     "execution_count": 18,
     "metadata": {},
     "output_type": "execute_result"
    }
   ],
   "source": [
    "# Merge same registration numbers together\n",
    "df['Registration.Number'].replace(to_replace = '(?i)^.*none.*$', value = 'NONE', inplace = True, regex = True)\n",
    "df['Registration.Number'].value_counts()"
   ]
  },
  {
   "cell_type": "code",
   "execution_count": 19,
   "id": "89cb1698",
   "metadata": {},
   "outputs": [
    {
     "name": "stdout",
     "output_type": "stream",
     "text": [
      "<class 'pandas.core.frame.DataFrame'>\n",
      "Int64Index: 34904 entries, 47675 to 88888\n",
      "Data columns (total 28 columns):\n",
      " #   Column                  Non-Null Count  Dtype         \n",
      "---  ------                  --------------  -----         \n",
      " 0   Event.Id                34904 non-null  object        \n",
      " 1   Investigation.Type      34904 non-null  object        \n",
      " 2   Accident.Number         34904 non-null  object        \n",
      " 3   Event.Date              34904 non-null  datetime64[ns]\n",
      " 4   Location                34897 non-null  object        \n",
      " 5   Country                 34904 non-null  object        \n",
      " 6   Airport.Code            23475 non-null  object        \n",
      " 7   Airport.Name            23765 non-null  object        \n",
      " 8   Injury.Severity         34852 non-null  object        \n",
      " 9   Aircraft.damage         34298 non-null  object        \n",
      " 10  Registration.Number     34902 non-null  object        \n",
      " 11  Make                    34899 non-null  object        \n",
      " 12  Model                   34897 non-null  object        \n",
      " 13  Amateur.Built           34890 non-null  object        \n",
      " 14  Number.of.Engines       33847 non-null  float64       \n",
      " 15  Engine.Type             32008 non-null  object        \n",
      " 16  Purpose.of.flight       33074 non-null  object        \n",
      " 17  Total.Fatal.Injuries    24794 non-null  float64       \n",
      " 18  Total.Serious.Injuries  24151 non-null  float64       \n",
      " 19  Total.Minor.Injuries    24787 non-null  float64       \n",
      " 20  Total.Uninjured         30076 non-null  float64       \n",
      " 21  Weather.Condition       34350 non-null  object        \n",
      " 22  Broad.phase.of.flight   14474 non-null  object        \n",
      " 23  Report.Status           32339 non-null  object        \n",
      " 24  Publication.Date        34559 non-null  object        \n",
      " 25  Year                    34904 non-null  int64         \n",
      " 26  Month.Abbr              34904 non-null  object        \n",
      " 27  Day.Name.Abbr           34904 non-null  object        \n",
      "dtypes: datetime64[ns](1), float64(5), int64(1), object(21)\n",
      "memory usage: 7.7+ MB\n"
     ]
    }
   ],
   "source": [
    "df.info()"
   ]
  },
  {
   "cell_type": "code",
   "execution_count": 20,
   "id": "77f4b1eb",
   "metadata": {},
   "outputs": [
    {
     "data": {
      "text/plain": [
       "Cessna            9460\n",
       "Piper             5354\n",
       "Beech             1965\n",
       "Bell               889\n",
       "Mooney             537\n",
       "                  ... \n",
       "Degelia              1\n",
       "Lambert John G       1\n",
       "Indus                1\n",
       "Dusenberry           1\n",
       "Royse Ralph L        1\n",
       "Name: Make, Length: 5043, dtype: int64"
      ]
     },
     "execution_count": 20,
     "metadata": {},
     "output_type": "execute_result"
    }
   ],
   "source": [
    "# Merge different capitalizations of 'Make' together\n",
    "df['Make'] = df['Make'].str.title()\n",
    "df['Make'].value_counts()"
   ]
  },
  {
   "cell_type": "code",
   "execution_count": null,
   "id": "47830850",
   "metadata": {},
   "outputs": [],
   "source": []
  },
  {
   "cell_type": "code",
   "execution_count": 21,
   "id": "2c9bb642",
   "metadata": {},
   "outputs": [
    {
     "data": {
      "text/html": [
       "<div>\n",
       "<style scoped>\n",
       "    .dataframe tbody tr th:only-of-type {\n",
       "        vertical-align: middle;\n",
       "    }\n",
       "\n",
       "    .dataframe tbody tr th {\n",
       "        vertical-align: top;\n",
       "    }\n",
       "\n",
       "    .dataframe thead th {\n",
       "        text-align: right;\n",
       "    }\n",
       "</style>\n",
       "<table border=\"1\" class=\"dataframe\">\n",
       "  <thead>\n",
       "    <tr style=\"text-align: right;\">\n",
       "      <th></th>\n",
       "      <th>City</th>\n",
       "      <th>State</th>\n",
       "    </tr>\n",
       "  </thead>\n",
       "  <tbody>\n",
       "    <tr>\n",
       "      <th>47675</th>\n",
       "      <td>HOMESTEAD</td>\n",
       "      <td>FL</td>\n",
       "    </tr>\n",
       "    <tr>\n",
       "      <th>47676</th>\n",
       "      <td>MONTEAGLE</td>\n",
       "      <td>TN</td>\n",
       "    </tr>\n",
       "    <tr>\n",
       "      <th>47677</th>\n",
       "      <td>VICTORVILLE</td>\n",
       "      <td>CA</td>\n",
       "    </tr>\n",
       "    <tr>\n",
       "      <th>47678</th>\n",
       "      <td>DOS PALOS</td>\n",
       "      <td>CA</td>\n",
       "    </tr>\n",
       "    <tr>\n",
       "      <th>47679</th>\n",
       "      <td>CORNING</td>\n",
       "      <td>AR</td>\n",
       "    </tr>\n",
       "    <tr>\n",
       "      <th>47680</th>\n",
       "      <td>ODESSA</td>\n",
       "      <td>TX</td>\n",
       "    </tr>\n",
       "    <tr>\n",
       "      <th>47681</th>\n",
       "      <td>TELLURIDE</td>\n",
       "      <td>CO</td>\n",
       "    </tr>\n",
       "    <tr>\n",
       "      <th>47684</th>\n",
       "      <td>HOUSTON</td>\n",
       "      <td>TX</td>\n",
       "    </tr>\n",
       "    <tr>\n",
       "      <th>47685</th>\n",
       "      <td>CORDESVILLE</td>\n",
       "      <td>SC</td>\n",
       "    </tr>\n",
       "    <tr>\n",
       "      <th>47686</th>\n",
       "      <td>KISSIMMEE</td>\n",
       "      <td>FL</td>\n",
       "    </tr>\n",
       "  </tbody>\n",
       "</table>\n",
       "</div>"
      ],
      "text/plain": [
       "              City State\n",
       "47675    HOMESTEAD    FL\n",
       "47676    MONTEAGLE    TN\n",
       "47677  VICTORVILLE    CA\n",
       "47678    DOS PALOS    CA\n",
       "47679      CORNING    AR\n",
       "47680       ODESSA    TX\n",
       "47681    TELLURIDE    CO\n",
       "47684      HOUSTON    TX\n",
       "47685  CORDESVILLE    SC\n",
       "47686    KISSIMMEE    FL"
      ]
     },
     "execution_count": 21,
     "metadata": {},
     "output_type": "execute_result"
    }
   ],
   "source": [
    "# Split location in city and state\n",
    "df['City'] = df['Location'].str.split(',').str[0]\n",
    "df['State'] = df['Location'].str.split(',').str[1]\n",
    "df[['City', 'State']].head(10)"
   ]
  },
  {
   "cell_type": "code",
   "execution_count": 22,
   "id": "1d21fd44",
   "metadata": {},
   "outputs": [
    {
     "data": {
      "text/plain": [
       "Non-Fatal    28168\n",
       "Fatal         6328\n",
       "Minor          203\n",
       "Serious        153\n",
       "Name: Injury.Severity, dtype: int64"
      ]
     },
     "execution_count": 22,
     "metadata": {},
     "output_type": "execute_result"
    }
   ],
   "source": [
    "# Remove amount of injuries as this is aleady in another column\n",
    "df['Injury.Severity'] = df['Injury.Severity'].str.split('(').str[0]\n",
    "df['Injury.Severity'].value_counts()"
   ]
  },
  {
   "cell_type": "code",
   "execution_count": 23,
   "id": "9ca012b2",
   "metadata": {},
   "outputs": [
    {
     "data": {
      "text/plain": [
       "VMC        32401\n",
       "IMC         1843\n",
       "Unknown      106\n",
       "Name: Weather.Condition, dtype: int64"
      ]
     },
     "execution_count": 23,
     "metadata": {},
     "output_type": "execute_result"
    }
   ],
   "source": [
    "# Merge weather condition unknowns\n",
    "df['Weather.Condition'].replace(to_replace = ['Unk', 'UNK'], value = 'Unknown', inplace = True)\n",
    "df['Weather.Condition'].value_counts()"
   ]
  },
  {
   "cell_type": "code",
   "execution_count": 24,
   "id": "ab3bbb76",
   "metadata": {},
   "outputs": [],
   "source": [
    "# Dropping the event ID column\n",
    "df = df.drop(columns= 'Event.Id')"
   ]
  },
  {
   "cell_type": "code",
   "execution_count": 25,
   "id": "841da0da",
   "metadata": {},
   "outputs": [
    {
     "name": "stdout",
     "output_type": "stream",
     "text": [
      "<class 'pandas.core.frame.DataFrame'>\n",
      "Int64Index: 34904 entries, 47675 to 88888\n",
      "Data columns (total 29 columns):\n",
      " #   Column                  Non-Null Count  Dtype         \n",
      "---  ------                  --------------  -----         \n",
      " 0   Investigation.Type      34904 non-null  object        \n",
      " 1   Accident.Number         34904 non-null  object        \n",
      " 2   Event.Date              34904 non-null  datetime64[ns]\n",
      " 3   Location                34897 non-null  object        \n",
      " 4   Country                 34904 non-null  object        \n",
      " 5   Airport.Code            23475 non-null  object        \n",
      " 6   Airport.Name            23765 non-null  object        \n",
      " 7   Injury.Severity         34852 non-null  object        \n",
      " 8   Aircraft.damage         34298 non-null  object        \n",
      " 9   Registration.Number     34902 non-null  object        \n",
      " 10  Make                    34899 non-null  object        \n",
      " 11  Model                   34897 non-null  object        \n",
      " 12  Amateur.Built           34890 non-null  object        \n",
      " 13  Number.of.Engines       33847 non-null  float64       \n",
      " 14  Engine.Type             32008 non-null  object        \n",
      " 15  Purpose.of.flight       33074 non-null  object        \n",
      " 16  Total.Fatal.Injuries    24794 non-null  float64       \n",
      " 17  Total.Serious.Injuries  24151 non-null  float64       \n",
      " 18  Total.Minor.Injuries    24787 non-null  float64       \n",
      " 19  Total.Uninjured         30076 non-null  float64       \n",
      " 20  Weather.Condition       34350 non-null  object        \n",
      " 21  Broad.phase.of.flight   14474 non-null  object        \n",
      " 22  Report.Status           32339 non-null  object        \n",
      " 23  Publication.Date        34559 non-null  object        \n",
      " 24  Year                    34904 non-null  int64         \n",
      " 25  Month.Abbr              34904 non-null  object        \n",
      " 26  Day.Name.Abbr           34904 non-null  object        \n",
      " 27  City                    34897 non-null  object        \n",
      " 28  State                   34897 non-null  object        \n",
      "dtypes: datetime64[ns](1), float64(5), int64(1), object(22)\n",
      "memory usage: 8.0+ MB\n"
     ]
    }
   ],
   "source": [
    "df.info()"
   ]
  },
  {
   "cell_type": "code",
   "execution_count": 26,
   "id": "486d95fd",
   "metadata": {},
   "outputs": [
    {
     "name": "stdout",
     "output_type": "stream",
     "text": [
      "<class 'pandas.core.frame.DataFrame'>\n",
      "Int64Index: 30346 entries, 47675 to 88888\n",
      "Data columns (total 28 columns):\n",
      " #   Column                  Non-Null Count  Dtype         \n",
      "---  ------                  --------------  -----         \n",
      " 0   Investigation.Type      30346 non-null  object        \n",
      " 1   Accident.Number         30346 non-null  object        \n",
      " 2   Event.Date              30346 non-null  datetime64[ns]\n",
      " 3   Location                30339 non-null  object        \n",
      " 4   Country                 30346 non-null  object        \n",
      " 5   Airport.Code            20352 non-null  object        \n",
      " 6   Airport.Name            20598 non-null  object        \n",
      " 7   Injury.Severity         30294 non-null  object        \n",
      " 8   Aircraft.damage         29741 non-null  object        \n",
      " 9   Registration.Number     30344 non-null  object        \n",
      " 10  Make                    30345 non-null  object        \n",
      " 11  Model                   30341 non-null  object        \n",
      " 12  Number.of.Engines       29456 non-null  float64       \n",
      " 13  Engine.Type             27719 non-null  object        \n",
      " 14  Purpose.of.flight       28517 non-null  object        \n",
      " 15  Total.Fatal.Injuries    21385 non-null  float64       \n",
      " 16  Total.Serious.Injuries  20874 non-null  float64       \n",
      " 17  Total.Minor.Injuries    21458 non-null  float64       \n",
      " 18  Total.Uninjured         26427 non-null  float64       \n",
      " 19  Weather.Condition       29813 non-null  object        \n",
      " 20  Broad.phase.of.flight   12663 non-null  object        \n",
      " 21  Report.Status           28062 non-null  object        \n",
      " 22  Publication.Date        30015 non-null  object        \n",
      " 23  Year                    30346 non-null  int64         \n",
      " 24  Month.Abbr              30346 non-null  object        \n",
      " 25  Day.Name.Abbr           30346 non-null  object        \n",
      " 26  City                    30339 non-null  object        \n",
      " 27  State                   30339 non-null  object        \n",
      "dtypes: datetime64[ns](1), float64(5), int64(1), object(21)\n",
      "memory usage: 6.7+ MB\n"
     ]
    }
   ],
   "source": [
    "#Dropping all rows that contain amateur built planes, then dropping the 'Amateur.Built' column entirely\n",
    "df = df[df['Amateur.Built'] != 'Yes']\n",
    "df = df.drop(columns= 'Amateur.Built')\n",
    "df.info()"
   ]
  },
  {
   "cell_type": "code",
   "execution_count": 29,
   "id": "ea4f4b7a",
   "metadata": {},
   "outputs": [
    {
     "data": {
      "text/plain": [
       "1.0      8984\n",
       "2.0      6747\n",
       "3.0      1632\n",
       "4.0       960\n",
       "5.0       252\n",
       "         ... \n",
       "251.0       1\n",
       "93.0        1\n",
       "165.0       1\n",
       "222.0       1\n",
       "203.0       1\n",
       "Name: Total.Passengers, Length: 200, dtype: int64"
      ]
     },
     "execution_count": 29,
     "metadata": {},
     "output_type": "execute_result"
    }
   ],
   "source": [
    "df['Total.Passengers'] = df['Total.Fatal.Injuries'] + df['Total.Serious.Injuries'] + df['Total.Minor.Injuries'] + df['Total.Uninjured']\n",
    "\n",
    "df['Total.Passengers'].value_counts()"
   ]
  },
  {
   "cell_type": "code",
   "execution_count": 31,
   "id": "087c6943",
   "metadata": {},
   "outputs": [
    {
     "name": "stdout",
     "output_type": "stream",
     "text": [
      "<class 'pandas.core.frame.DataFrame'>\n",
      "Int64Index: 30346 entries, 47675 to 88888\n",
      "Data columns (total 29 columns):\n",
      " #   Column                  Non-Null Count  Dtype         \n",
      "---  ------                  --------------  -----         \n",
      " 0   Investigation.Type      30346 non-null  object        \n",
      " 1   Accident.Number         30346 non-null  object        \n",
      " 2   Event.Date              30346 non-null  datetime64[ns]\n",
      " 3   Location                30339 non-null  object        \n",
      " 4   Country                 30346 non-null  object        \n",
      " 5   Airport.Code            20352 non-null  object        \n",
      " 6   Airport.Name            20598 non-null  object        \n",
      " 7   Injury.Severity         30294 non-null  object        \n",
      " 8   Aircraft.damage         29741 non-null  object        \n",
      " 9   Registration.Number     30344 non-null  object        \n",
      " 10  Make                    30345 non-null  object        \n",
      " 11  Model                   30341 non-null  object        \n",
      " 12  Number.of.Engines       29456 non-null  float64       \n",
      " 13  Engine.Type             27719 non-null  object        \n",
      " 14  Purpose.of.flight       28517 non-null  object        \n",
      " 15  Total.Fatal.Injuries    21385 non-null  float64       \n",
      " 16  Total.Serious.Injuries  20874 non-null  float64       \n",
      " 17  Total.Minor.Injuries    21458 non-null  float64       \n",
      " 18  Total.Uninjured         26427 non-null  float64       \n",
      " 19  Weather.Condition       29813 non-null  object        \n",
      " 20  Broad.phase.of.flight   12663 non-null  object        \n",
      " 21  Report.Status           28062 non-null  object        \n",
      " 22  Publication.Date        30015 non-null  object        \n",
      " 23  Year                    30346 non-null  int64         \n",
      " 24  Month.Abbr              30346 non-null  object        \n",
      " 25  Day.Name.Abbr           30346 non-null  object        \n",
      " 26  City                    30339 non-null  object        \n",
      " 27  State                   30339 non-null  object        \n",
      " 28  Total.Passengers        19431 non-null  float64       \n",
      "dtypes: datetime64[ns](1), float64(6), int64(1), object(21)\n",
      "memory usage: 6.9+ MB\n"
     ]
    }
   ],
   "source": [
    "df.info()"
   ]
  },
  {
   "cell_type": "code",
   "execution_count": null,
   "id": "1e828851",
   "metadata": {},
   "outputs": [],
   "source": []
  }
 ],
 "metadata": {
  "kernelspec": {
   "display_name": "Python 3 (ipykernel)",
   "language": "python",
   "name": "python3"
  },
  "language_info": {
   "codemirror_mode": {
    "name": "ipython",
    "version": 3
   },
   "file_extension": ".py",
   "mimetype": "text/x-python",
   "name": "python",
   "nbconvert_exporter": "python",
   "pygments_lexer": "ipython3",
   "version": "3.9.7"
  }
 },
 "nbformat": 4,
 "nbformat_minor": 5
}
