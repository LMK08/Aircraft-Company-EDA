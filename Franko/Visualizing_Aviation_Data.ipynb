{
 "cells": [
  {
   "cell_type": "markdown",
   "id": "fb02a586-02d2-4d6f-ad0a-8f0144396923",
   "metadata": {},
   "source": [
    "# Business Problem"
   ]
  },
  {
   "cell_type": "markdown",
   "id": "473829aa-b758-4533-b547-3fd5ed47f4f0",
   "metadata": {},
   "source": [
    "The startup company **\"Landmark Airlines\"** is embarking on the creation of a domestic airline dedicated to serving upper-class Americans and business executives. The company is currently focused on acquiring and operating airplanes for both commercial and private use. They are particularly interested in catering to the needs of private individuals or groups of executives who might require charter services. However, Landmark Airlines lacks sufficient knowledge regarding the potential risks associated with aircraft operations. It is our responsibility to assess and identify the aircraft options with the lowest risks, providing actionable insights for the head of the new aviation division. These insights will play a pivotal role in guiding the company's decisions regarding which aircraft to invest in for this promising new business venture."
   ]
  },
  {
   "cell_type": "markdown",
   "id": "d76b06c1-0a4e-4854-84dc-f5ebe8973838",
   "metadata": {},
   "source": [
    "## Key Objectives"
   ]
  },
  {
   "cell_type": "markdown",
   "id": "176925dd-470a-41a7-9dd7-f24faefd7142",
   "metadata": {},
   "source": [
    "\n",
    "- We will conduct an analysis that will result in three distinct and practical business recommendations. By addressing the challenges of handling missing data, aggregating information, and effectively visualizing the data, We aim to empower our organization to make informed decisions based on data. We will connect these findings to the realm of business intelligence, leveraging them to offer insightful suggestions on how our company should proceed with the exciting new aviation venture.\n",
    "\n",
    "- We understand that effective communication is of paramount importance. Our capacity to deliver value to the organization, or to secure a position within it, hinges on our proficiency in articulating our accomplishments and their significance. Our task involves crafting a narrative that our stakeholders, specifically the head of the aviation division, can easily comprehend. We will achieve this by guiding them through each step of our process, emphasizing key insights, while condensing less critical details. This approach ensures that our message is clear, engaging, and allows our audience to seamlessly follow our storyline.\n",
    "\n",
    "- We will utilize a variety of visualizations to enhance our communication. Visual representations play a crucial role in both exploring the data and making our findings easily understandable for individuals who may not have technical expertise. Within our presentation, we will shine a spotlight on visuals that directly align with the recommendations we're making. It's advisable to opt for uncomplicated visuals, such as bar charts and line graphs, as they tend to be the most effective. Additionally, we will pay careful attention to formatting, including elements like labels and titles, to ensure that our visuals are clear and impactful."
   ]
  },
  {
   "cell_type": "markdown",
   "id": "b94765ee-4e7e-4426-9bd0-b4d9f28e702f",
   "metadata": {},
   "source": [
    "# Data Visualization: Fatality Rates"
   ]
  },
  {
   "cell_type": "markdown",
   "id": "9096bf7e-4a9f-464a-9618-32fcd1438f7e",
   "metadata": {},
   "source": [
    "## Setting up the workspace"
   ]
  },
  {
   "cell_type": "markdown",
   "id": "4c68de8f-117d-46bb-810e-2427e340d92c",
   "metadata": {},
   "source": [
    "The best way to understand our dataset is to visualize it. Seaborn and Matplotlib are going to be incredibily helpful for this goal. Landmark Airlines needs 3 recomendations of aircrafts to invest in based on how safe the plane is. First we must define what a \"safe\" aircraft constitutes as.\n",
    "\n",
    "Some ways we can determin the safety of an aircraft:\n",
    "\n",
    "- Calculate the total fatality rate\n",
    "- Fatality rate based on Makes\n",
    "- Fatality rate based on Models\n",
    "\n",
    "As Data Scientists, it is imperative that we represent this data is a clear way for business' to understand and make clear decisions based off of. We believe the above visualization will provide us with the clearest picture.\n",
    "\n",
    "For starters we must import the nessecary libraries and csv file(s)"
   ]
  },
  {
   "cell_type": "code",
   "execution_count": 1,
   "id": "102c3373-71a8-44a7-9f94-2d8c6f94f0a4",
   "metadata": {},
   "outputs": [
    {
     "name": "stderr",
     "output_type": "stream",
     "text": [
      "/Users/ndou/anaconda3/envs/learn-env/lib/python3.9/site-packages/scipy/__init__.py:146: UserWarning: A NumPy version >=1.16.5 and <1.23.0 is required for this version of SciPy (detected version 1.23.2\n",
      "  warnings.warn(f\"A NumPy version >={np_minversion} and <{np_maxversion}\"\n"
     ]
    }
   ],
   "source": [
    "#Importing libraries\n",
    "import pandas as pd\n",
    "import seaborn as sns\n",
    "import matplotlib.pyplot as plt\n",
    "import warnings\n",
    "\n",
    "#Ignoring ugly warnings\n",
    "warnings.filterwarnings(\"ignore\")"
   ]
  },
  {
   "cell_type": "code",
   "execution_count": 2,
   "id": "89e5cede-9ef9-41b8-a4a2-8c4fcfe3f85e",
   "metadata": {},
   "outputs": [],
   "source": [
    "# Opening CSV file and assigning it to a Dataframe varrible\n",
    "df = pd.read_csv('data/cleaned_aviation.csv')\n",
    "df.drop(columns = 'Unnamed: 0', inplace = True)"
   ]
  },
  {
   "cell_type": "code",
   "execution_count": 3,
   "id": "9c176068-153b-4a9d-801c-6b270a3eb351",
   "metadata": {},
   "outputs": [
    {
     "data": {
      "text/html": [
       "<div>\n",
       "<style scoped>\n",
       "    .dataframe tbody tr th:only-of-type {\n",
       "        vertical-align: middle;\n",
       "    }\n",
       "\n",
       "    .dataframe tbody tr th {\n",
       "        vertical-align: top;\n",
       "    }\n",
       "\n",
       "    .dataframe thead th {\n",
       "        text-align: right;\n",
       "    }\n",
       "</style>\n",
       "<table border=\"1\" class=\"dataframe\">\n",
       "  <thead>\n",
       "    <tr style=\"text-align: right;\">\n",
       "      <th></th>\n",
       "      <th>Investigation.Type</th>\n",
       "      <th>Event.Date</th>\n",
       "      <th>Location</th>\n",
       "      <th>Country</th>\n",
       "      <th>Injury.Severity</th>\n",
       "      <th>Aircraft.damage</th>\n",
       "      <th>Aircraft.Category</th>\n",
       "      <th>Make</th>\n",
       "      <th>Model</th>\n",
       "      <th>Number.of.Engines</th>\n",
       "      <th>...</th>\n",
       "      <th>Total.Minor.Injuries</th>\n",
       "      <th>Total.Uninjured</th>\n",
       "      <th>Weather.Condition</th>\n",
       "      <th>Broad.phase.of.flight</th>\n",
       "      <th>Report.Status</th>\n",
       "      <th>Year</th>\n",
       "      <th>Month.Abbr</th>\n",
       "      <th>Day.Name.Abbr</th>\n",
       "      <th>City</th>\n",
       "      <th>State</th>\n",
       "    </tr>\n",
       "  </thead>\n",
       "  <tbody>\n",
       "    <tr>\n",
       "      <th>0</th>\n",
       "      <td>Accident</td>\n",
       "      <td>1995-01-01</td>\n",
       "      <td>LANCASTER, CA</td>\n",
       "      <td>United States</td>\n",
       "      <td>Fatal</td>\n",
       "      <td>Substantial</td>\n",
       "      <td>Airplane</td>\n",
       "      <td>Aero Commander</td>\n",
       "      <td>200D</td>\n",
       "      <td>1.0</td>\n",
       "      <td>...</td>\n",
       "      <td>0.0</td>\n",
       "      <td>1.0</td>\n",
       "      <td>VMC</td>\n",
       "      <td>Cruise</td>\n",
       "      <td>Probable Cause</td>\n",
       "      <td>1995.0</td>\n",
       "      <td>Jan</td>\n",
       "      <td>Sun</td>\n",
       "      <td>LANCASTER</td>\n",
       "      <td>CA</td>\n",
       "    </tr>\n",
       "    <tr>\n",
       "      <th>1</th>\n",
       "      <td>Accident</td>\n",
       "      <td>1995-01-01</td>\n",
       "      <td>TORREON, NM</td>\n",
       "      <td>United States</td>\n",
       "      <td>Non-Fatal</td>\n",
       "      <td>Substantial</td>\n",
       "      <td>Airplane</td>\n",
       "      <td>Cessna</td>\n",
       "      <td>177B</td>\n",
       "      <td>1.0</td>\n",
       "      <td>...</td>\n",
       "      <td>0.0</td>\n",
       "      <td>2.0</td>\n",
       "      <td>VMC</td>\n",
       "      <td>Takeoff</td>\n",
       "      <td>Probable Cause</td>\n",
       "      <td>1995.0</td>\n",
       "      <td>Jan</td>\n",
       "      <td>Sun</td>\n",
       "      <td>TORREON</td>\n",
       "      <td>NM</td>\n",
       "    </tr>\n",
       "    <tr>\n",
       "      <th>2</th>\n",
       "      <td>Accident</td>\n",
       "      <td>1995-01-02</td>\n",
       "      <td>FOLEY, AL</td>\n",
       "      <td>United States</td>\n",
       "      <td>Non-Fatal</td>\n",
       "      <td>Destroyed</td>\n",
       "      <td>Airplane</td>\n",
       "      <td>Piper</td>\n",
       "      <td>PA-28-151</td>\n",
       "      <td>1.0</td>\n",
       "      <td>...</td>\n",
       "      <td>0.0</td>\n",
       "      <td>1.0</td>\n",
       "      <td>VMC</td>\n",
       "      <td>Approach</td>\n",
       "      <td>Probable Cause</td>\n",
       "      <td>1995.0</td>\n",
       "      <td>Jan</td>\n",
       "      <td>Mon</td>\n",
       "      <td>FOLEY</td>\n",
       "      <td>AL</td>\n",
       "    </tr>\n",
       "    <tr>\n",
       "      <th>3</th>\n",
       "      <td>Accident</td>\n",
       "      <td>1995-01-02</td>\n",
       "      <td>DAVIS, CA</td>\n",
       "      <td>United States</td>\n",
       "      <td>Non-Fatal</td>\n",
       "      <td>Substantial</td>\n",
       "      <td>Airplane</td>\n",
       "      <td>Cessna</td>\n",
       "      <td>175</td>\n",
       "      <td>1.0</td>\n",
       "      <td>...</td>\n",
       "      <td>0.0</td>\n",
       "      <td>1.0</td>\n",
       "      <td>VMC</td>\n",
       "      <td>Landing</td>\n",
       "      <td>Probable Cause</td>\n",
       "      <td>1995.0</td>\n",
       "      <td>Jan</td>\n",
       "      <td>Mon</td>\n",
       "      <td>DAVIS</td>\n",
       "      <td>CA</td>\n",
       "    </tr>\n",
       "    <tr>\n",
       "      <th>4</th>\n",
       "      <td>Accident</td>\n",
       "      <td>1995-01-02</td>\n",
       "      <td>UNION CITY, TN</td>\n",
       "      <td>United States</td>\n",
       "      <td>Non-Fatal</td>\n",
       "      <td>Substantial</td>\n",
       "      <td>Airplane</td>\n",
       "      <td>Beech</td>\n",
       "      <td>V35B</td>\n",
       "      <td>1.0</td>\n",
       "      <td>...</td>\n",
       "      <td>1.0</td>\n",
       "      <td>0.0</td>\n",
       "      <td>VMC</td>\n",
       "      <td>Cruise</td>\n",
       "      <td>Probable Cause</td>\n",
       "      <td>1995.0</td>\n",
       "      <td>Jan</td>\n",
       "      <td>Mon</td>\n",
       "      <td>UNION CITY</td>\n",
       "      <td>TN</td>\n",
       "    </tr>\n",
       "    <tr>\n",
       "      <th>...</th>\n",
       "      <td>...</td>\n",
       "      <td>...</td>\n",
       "      <td>...</td>\n",
       "      <td>...</td>\n",
       "      <td>...</td>\n",
       "      <td>...</td>\n",
       "      <td>...</td>\n",
       "      <td>...</td>\n",
       "      <td>...</td>\n",
       "      <td>...</td>\n",
       "      <td>...</td>\n",
       "      <td>...</td>\n",
       "      <td>...</td>\n",
       "      <td>...</td>\n",
       "      <td>...</td>\n",
       "      <td>...</td>\n",
       "      <td>...</td>\n",
       "      <td>...</td>\n",
       "      <td>...</td>\n",
       "      <td>...</td>\n",
       "      <td>...</td>\n",
       "    </tr>\n",
       "    <tr>\n",
       "      <th>22395</th>\n",
       "      <td>Accident</td>\n",
       "      <td>2022-12-21</td>\n",
       "      <td>Auburn Hills, MI</td>\n",
       "      <td>United States</td>\n",
       "      <td>Non-Fatal</td>\n",
       "      <td>NaN</td>\n",
       "      <td>Airplane</td>\n",
       "      <td>Cessna</td>\n",
       "      <td>172F</td>\n",
       "      <td>NaN</td>\n",
       "      <td>...</td>\n",
       "      <td>0.0</td>\n",
       "      <td>0.0</td>\n",
       "      <td>NaN</td>\n",
       "      <td>NaN</td>\n",
       "      <td>NaN</td>\n",
       "      <td>2022.0</td>\n",
       "      <td>Dec</td>\n",
       "      <td>Wed</td>\n",
       "      <td>Auburn Hills</td>\n",
       "      <td>MI</td>\n",
       "    </tr>\n",
       "    <tr>\n",
       "      <th>22396</th>\n",
       "      <td>Accident</td>\n",
       "      <td>2022-12-26</td>\n",
       "      <td>Annapolis, MD</td>\n",
       "      <td>United States</td>\n",
       "      <td>Non-Fatal</td>\n",
       "      <td>NaN</td>\n",
       "      <td>Airplane</td>\n",
       "      <td>Piper</td>\n",
       "      <td>PA-28-151</td>\n",
       "      <td>NaN</td>\n",
       "      <td>...</td>\n",
       "      <td>0.0</td>\n",
       "      <td>0.0</td>\n",
       "      <td>NaN</td>\n",
       "      <td>NaN</td>\n",
       "      <td>NaN</td>\n",
       "      <td>2022.0</td>\n",
       "      <td>Dec</td>\n",
       "      <td>Mon</td>\n",
       "      <td>Annapolis</td>\n",
       "      <td>MD</td>\n",
       "    </tr>\n",
       "    <tr>\n",
       "      <th>22397</th>\n",
       "      <td>Accident</td>\n",
       "      <td>2022-12-26</td>\n",
       "      <td>Payson, AZ</td>\n",
       "      <td>United States</td>\n",
       "      <td>Non-Fatal</td>\n",
       "      <td>Substantial</td>\n",
       "      <td>Airplane</td>\n",
       "      <td>American Champion Aircraft</td>\n",
       "      <td>8GCBC</td>\n",
       "      <td>1.0</td>\n",
       "      <td>...</td>\n",
       "      <td>0.0</td>\n",
       "      <td>1.0</td>\n",
       "      <td>VMC</td>\n",
       "      <td>NaN</td>\n",
       "      <td>NaN</td>\n",
       "      <td>2022.0</td>\n",
       "      <td>Dec</td>\n",
       "      <td>Mon</td>\n",
       "      <td>Payson</td>\n",
       "      <td>AZ</td>\n",
       "    </tr>\n",
       "    <tr>\n",
       "      <th>22398</th>\n",
       "      <td>Accident</td>\n",
       "      <td>2022-12-26</td>\n",
       "      <td>Morgan, UT</td>\n",
       "      <td>United States</td>\n",
       "      <td>NaN</td>\n",
       "      <td>NaN</td>\n",
       "      <td>Airplane</td>\n",
       "      <td>Cessna</td>\n",
       "      <td>210N</td>\n",
       "      <td>NaN</td>\n",
       "      <td>...</td>\n",
       "      <td>0.0</td>\n",
       "      <td>0.0</td>\n",
       "      <td>NaN</td>\n",
       "      <td>NaN</td>\n",
       "      <td>NaN</td>\n",
       "      <td>2022.0</td>\n",
       "      <td>Dec</td>\n",
       "      <td>Mon</td>\n",
       "      <td>Morgan</td>\n",
       "      <td>UT</td>\n",
       "    </tr>\n",
       "    <tr>\n",
       "      <th>22399</th>\n",
       "      <td>Accident</td>\n",
       "      <td>2022-12-29</td>\n",
       "      <td>Athens, GA</td>\n",
       "      <td>United States</td>\n",
       "      <td>Non-Fatal</td>\n",
       "      <td>NaN</td>\n",
       "      <td>Airplane</td>\n",
       "      <td>Piper</td>\n",
       "      <td>PA-24-260</td>\n",
       "      <td>NaN</td>\n",
       "      <td>...</td>\n",
       "      <td>0.0</td>\n",
       "      <td>1.0</td>\n",
       "      <td>NaN</td>\n",
       "      <td>NaN</td>\n",
       "      <td>NaN</td>\n",
       "      <td>2022.0</td>\n",
       "      <td>Dec</td>\n",
       "      <td>Thu</td>\n",
       "      <td>Athens</td>\n",
       "      <td>GA</td>\n",
       "    </tr>\n",
       "  </tbody>\n",
       "</table>\n",
       "<p>22400 rows × 24 columns</p>\n",
       "</div>"
      ],
      "text/plain": [
       "      Investigation.Type  Event.Date          Location        Country  \\\n",
       "0               Accident  1995-01-01     LANCASTER, CA  United States   \n",
       "1               Accident  1995-01-01       TORREON, NM  United States   \n",
       "2               Accident  1995-01-02         FOLEY, AL  United States   \n",
       "3               Accident  1995-01-02         DAVIS, CA  United States   \n",
       "4               Accident  1995-01-02    UNION CITY, TN  United States   \n",
       "...                  ...         ...               ...            ...   \n",
       "22395           Accident  2022-12-21  Auburn Hills, MI  United States   \n",
       "22396           Accident  2022-12-26     Annapolis, MD  United States   \n",
       "22397           Accident  2022-12-26        Payson, AZ  United States   \n",
       "22398           Accident  2022-12-26        Morgan, UT  United States   \n",
       "22399           Accident  2022-12-29        Athens, GA  United States   \n",
       "\n",
       "      Injury.Severity Aircraft.damage Aircraft.Category  \\\n",
       "0               Fatal     Substantial          Airplane   \n",
       "1           Non-Fatal     Substantial          Airplane   \n",
       "2           Non-Fatal       Destroyed          Airplane   \n",
       "3           Non-Fatal     Substantial          Airplane   \n",
       "4           Non-Fatal     Substantial          Airplane   \n",
       "...               ...             ...               ...   \n",
       "22395       Non-Fatal             NaN          Airplane   \n",
       "22396       Non-Fatal             NaN          Airplane   \n",
       "22397       Non-Fatal     Substantial          Airplane   \n",
       "22398             NaN             NaN          Airplane   \n",
       "22399       Non-Fatal             NaN          Airplane   \n",
       "\n",
       "                             Make      Model  Number.of.Engines  ...  \\\n",
       "0                  Aero Commander       200D                1.0  ...   \n",
       "1                          Cessna       177B                1.0  ...   \n",
       "2                           Piper  PA-28-151                1.0  ...   \n",
       "3                          Cessna        175                1.0  ...   \n",
       "4                           Beech       V35B                1.0  ...   \n",
       "...                           ...        ...                ...  ...   \n",
       "22395                      Cessna       172F                NaN  ...   \n",
       "22396                       Piper  PA-28-151                NaN  ...   \n",
       "22397  American Champion Aircraft      8GCBC                1.0  ...   \n",
       "22398                      Cessna       210N                NaN  ...   \n",
       "22399                       Piper  PA-24-260                NaN  ...   \n",
       "\n",
       "      Total.Minor.Injuries Total.Uninjured  Weather.Condition  \\\n",
       "0                      0.0             1.0                VMC   \n",
       "1                      0.0             2.0                VMC   \n",
       "2                      0.0             1.0                VMC   \n",
       "3                      0.0             1.0                VMC   \n",
       "4                      1.0             0.0                VMC   \n",
       "...                    ...             ...                ...   \n",
       "22395                  0.0             0.0                NaN   \n",
       "22396                  0.0             0.0                NaN   \n",
       "22397                  0.0             1.0                VMC   \n",
       "22398                  0.0             0.0                NaN   \n",
       "22399                  0.0             1.0                NaN   \n",
       "\n",
       "       Broad.phase.of.flight   Report.Status    Year Month.Abbr Day.Name.Abbr  \\\n",
       "0                     Cruise  Probable Cause  1995.0        Jan           Sun   \n",
       "1                    Takeoff  Probable Cause  1995.0        Jan           Sun   \n",
       "2                   Approach  Probable Cause  1995.0        Jan           Mon   \n",
       "3                    Landing  Probable Cause  1995.0        Jan           Mon   \n",
       "4                     Cruise  Probable Cause  1995.0        Jan           Mon   \n",
       "...                      ...             ...     ...        ...           ...   \n",
       "22395                    NaN             NaN  2022.0        Dec           Wed   \n",
       "22396                    NaN             NaN  2022.0        Dec           Mon   \n",
       "22397                    NaN             NaN  2022.0        Dec           Mon   \n",
       "22398                    NaN             NaN  2022.0        Dec           Mon   \n",
       "22399                    NaN             NaN  2022.0        Dec           Thu   \n",
       "\n",
       "               City  State  \n",
       "0         LANCASTER     CA  \n",
       "1           TORREON     NM  \n",
       "2             FOLEY     AL  \n",
       "3             DAVIS     CA  \n",
       "4        UNION CITY     TN  \n",
       "...             ...    ...  \n",
       "22395  Auburn Hills     MI  \n",
       "22396     Annapolis     MD  \n",
       "22397        Payson     AZ  \n",
       "22398        Morgan     UT  \n",
       "22399        Athens     GA  \n",
       "\n",
       "[22400 rows x 24 columns]"
      ]
     },
     "execution_count": 3,
     "metadata": {},
     "output_type": "execute_result"
    }
   ],
   "source": [
    "# Reading the DataFrame\n",
    "df"
   ]
  },
  {
   "cell_type": "markdown",
   "id": "d4a47a93-ed1d-4299-aba3-d8c27b978d7b",
   "metadata": {},
   "source": [
    "Okay now that weve managed to import and open the CSV file we can now start creating visualizations on the data that we have.\n",
    "\n",
    "Before that lets get some information and understanding of the CSV file so we know which columns we want to use for our visualizations"
   ]
  },
  {
   "cell_type": "code",
   "execution_count": 4,
   "id": "3fae3960-76e6-4e74-80a1-fd9bc1bb4018",
   "metadata": {},
   "outputs": [
    {
     "name": "stdout",
     "output_type": "stream",
     "text": [
      "<class 'pandas.core.frame.DataFrame'>\n",
      "RangeIndex: 22400 entries, 0 to 22399\n",
      "Data columns (total 24 columns):\n",
      " #   Column                  Non-Null Count  Dtype  \n",
      "---  ------                  --------------  -----  \n",
      " 0   Investigation.Type      22400 non-null  object \n",
      " 1   Event.Date              22400 non-null  object \n",
      " 2   Location                22397 non-null  object \n",
      " 3   Country                 22400 non-null  object \n",
      " 4   Injury.Severity         22390 non-null  object \n",
      " 5   Aircraft.damage         21631 non-null  object \n",
      " 6   Aircraft.Category       21740 non-null  object \n",
      " 7   Make                    21739 non-null  object \n",
      " 8   Model                   21738 non-null  object \n",
      " 9   Number.of.Engines       21180 non-null  float64\n",
      " 10  Engine.Type             20579 non-null  object \n",
      " 11  Purpose.of.flight       21740 non-null  object \n",
      " 12  Total.Fatal.Injuries    21740 non-null  float64\n",
      " 13  Total.Serious.Injuries  21740 non-null  float64\n",
      " 14  Total.Minor.Injuries    21740 non-null  float64\n",
      " 15  Total.Uninjured         21740 non-null  float64\n",
      " 16  Weather.Condition       21483 non-null  object \n",
      " 17  Broad.phase.of.flight   12067 non-null  object \n",
      " 18  Report.Status           20489 non-null  object \n",
      " 19  Year                    21080 non-null  float64\n",
      " 20  Month.Abbr              21080 non-null  object \n",
      " 21  Day.Name.Abbr           21080 non-null  object \n",
      " 22  City                    21073 non-null  object \n",
      " 23  State                   21062 non-null  object \n",
      "dtypes: float64(6), object(18)\n",
      "memory usage: 4.1+ MB\n"
     ]
    }
   ],
   "source": [
    "# Gathing info on the DataFrame\n",
    "df.info()"
   ]
  },
  {
   "cell_type": "code",
   "execution_count": 5,
   "id": "079777e6-eb19-468d-b7bf-15fc39c49f01",
   "metadata": {},
   "outputs": [],
   "source": [
    "# Lets make sure that we can claerly get affirmative data rather then any \"Unavailable\" data\n",
    "injury_data = df[df['Injury.Severity'] != 'Unavailable']"
   ]
  },
  {
   "cell_type": "markdown",
   "id": "8a98c855-60c4-4fc2-929b-a54deaf1907e",
   "metadata": {},
   "source": [
    "## Creating the visualizations"
   ]
  },
  {
   "cell_type": "markdown",
   "id": "98549371-5813-4b35-a058-87520f50f2fd",
   "metadata": {},
   "source": [
    "To understand what is unsafe we must first understand what is safe. We have 35,000+ entries of data with very minimal missingness, which means we can comfortable calculate the average fatality rate for accidents within the United States. This will give us a comfortable understanding of what airplanes tend to end in more fatalities and which ones tend to be much safer and sustainable\n",
    "\n"
   ]
  },
  {
   "cell_type": "code",
   "execution_count": 6,
   "id": "d2be3f4a-bce5-4177-8cca-a0bad72072b6",
   "metadata": {},
   "outputs": [
    {
     "name": "stdout",
     "output_type": "stream",
     "text": [
      "Average fatality rate: 18.23%\n"
     ]
    }
   ],
   "source": [
    "# Calculate average fatality rate\n",
    "average_fatal = len(injury_data[injury_data['Injury.Severity'] == 'Fatal'].index) / len(injury_data.index)\n",
    "print(\"Average fatality rate: \" + str(round(average_fatal * 100, 2)) + '%')"
   ]
  },
  {
   "cell_type": "markdown",
   "id": "b6d77810-c852-4d28-ae6b-8a16a6af3dc1",
   "metadata": {},
   "source": [
    "Okay so the average fatality rate in accidents within the USA is 18.23%, for the purpose of recommending a make and model to Landmark Airlines, anything above 22% will be automatically ruled out of judgement.\n",
    "\n",
    "Now that we know the average fatality rate, we should calculate the average fatality rate per make. The best way to do that is to create a bar-graph of the top 25 most frequently crashed makes.\n",
    "\n"
   ]
  },
  {
   "cell_type": "markdown",
   "id": "d944908d",
   "metadata": {},
   "source": [
    "### Fatality rate by make"
   ]
  },
  {
   "cell_type": "code",
   "execution_count": 7,
   "id": "3a690ebb",
   "metadata": {
    "scrolled": false
   },
   "outputs": [
    {
     "data": {
      "image/png": "[encoded data removed]",
      "text/plain": [
       "<Figure size 1800x500 with 1 Axes>"
      ]
     },
     "metadata": {},
     "output_type": "display_data"
    }
   ],
   "source": [
    "# Importing percent formatter\n",
    "from matplotlib.ticker import PercentFormatter\n",
    "\n",
    "# Extract list of 25 makes most frequently involved in accidents\n",
    "make_top25 = df['Make'].value_counts().nlargest(25).index.tolist()\n",
    "\n",
    "# Only keep data with a make in the top list\n",
    "make_data = injury_data[injury_data['Make'].isin(make_top25)]\n",
    "\n",
    "# Percentage fatality by make\n",
    "makefatal = make_data.groupby('Make')['Injury.Severity'].value_counts(normalize = True).unstack('Injury.Severity').reindex(make_top25)\n",
    "makefatal.plot.bar(stacked = True, figsize=(18,5), width = 0.8, color = ['#003366','#2990EA'])\n",
    "\n",
    "# Line with average fatality\n",
    "plt.axhline(y = average_fatal, color = 'orange', linestyle = '-')\n",
    "plt.axhline(y = .22, color = 'r', linestyle = '-')\n",
    "\n",
    "#Formatting\n",
    "plt.gca().yaxis.set_major_formatter(PercentFormatter(1))\n",
    "plt.title('Fatality rate by make')\n",
    "plt.legend(title = \"Injury Severity\", loc='upper right')\n",
    "plt.xlabel('Make of airplane')\n",
    "plt.ylabel('Fatality Rate')\n",
    "plt.show()"
   ]
  },
  {
   "cell_type": "code",
   "execution_count": 8,
   "id": "97a92d3b",
   "metadata": {},
   "outputs": [
    {
     "data": {
      "text/plain": [
       "Make\n",
       "Cessna                           7945\n",
       "Piper                            5013\n",
       "Beech                            1800\n",
       "Mooney                            613\n",
       "Bellanca                          364\n",
       "                                 ... \n",
       "Engineering And Research            1\n",
       "T Bird                              1\n",
       "Storch Aviation Australia Pty       1\n",
       "Yakovlev/Day                        1\n",
       "Royse Ralph L                       1\n",
       "Name: count, Length: 959, dtype: int64"
      ]
     },
     "execution_count": 8,
     "metadata": {},
     "output_type": "execute_result"
    }
   ],
   "source": [
    "df['Make'].value_counts()"
   ]
  },
  {
   "cell_type": "markdown",
   "id": "cb79ef09",
   "metadata": {},
   "source": [
    "It looks like there are 9 Companies above the average mortality rate in the United states. Now this doesnt mean we have to immediately get rid of them however it does give us something to look deeper into. The Orange line represents the average fatality whereas the red line represents 22% fatality rate. 22% fatality rate is completely unacceptable as it is too high risk for our stakeholders to approve. For that reason we can ignore :\n",
    "\n",
    "- Beech\n",
    "- Mooney\n",
    "- North American\n",
    "- Cirrus Design Corp\n",
    "- Grumman American\n",
    "- Robinson\n",
    "- Aero Commander\n",
    "- Cirrus\n",
    "- Socata\n",
    "\n",
    "The companies we should be catious of are:\n",
    "\n",
    "- Piper\n",
    "- Bell\n",
    "- Schweizer\n",
    "\n",
    "These companies require us to look more into the data behind each airplane and accident involved so that we can confidently make a recomendation off of safety\n",
    "\n",
    "The current most promising companies:\n",
    "\n",
    "- Cessna\n",
    "- Piper\n",
    "\n",
    "Bellanca seems to be promising but we do not have sufficent data to form a proper opinion on the fatality rate, Cessna and Piper both appear as a value over 5,000 times, whereas Bellanca appears only 364 times\n",
    "\n",
    "Certain companies actually do not meet our standards of flight; for example, Boeing is a commerical airline which is too large scale for the business that our stakeholders are trying to run, despite the very aprovable safety metric. Some companies are helicopter based and some are simply defunct and would be too risky to support the idea of investing in."
   ]
  },
  {
   "cell_type": "markdown",
   "id": "3404a3e4",
   "metadata": {},
   "source": [
    "Currently the best option at face value is likely to be the Cessna, It has the lowest fatality rate out of the other acceptable makes, as well as it has a extremely large data set comparaitive to the other datasets, meaning we for sure know that Cessnas have a very low rate of fatality. Piper also seems to be very reliable as well."
   ]
  },
  {
   "cell_type": "markdown",
   "id": "c19c5d3e",
   "metadata": {},
   "source": [
    "### Fatality rate by model"
   ]
  },
  {
   "cell_type": "markdown",
   "id": "3bd8df1b",
   "metadata": {},
   "source": [
    "So what now? Do we just call it a day and tell Landmark Airlines to just buy a Cessna and Piper and hope for the best?\n",
    "\n",
    "Well although Fatality by make is a great intial messure of safety, **it is not nearly enough**. Our stakeholders need to know what planes to invest in specifically, they asked us to bring them three recomendations and they trust our skills and judgement to achieve that goal. Lets try and narrow it down a bit more and look into the intracies of the Cessna and Piper models.\n",
    "\n",
    "We should check the specific fatality rate of both makes."
   ]
  },
  {
   "cell_type": "code",
   "execution_count": 9,
   "id": "94b324c4",
   "metadata": {},
   "outputs": [
    {
     "name": "stdout",
     "output_type": "stream",
     "text": [
      "Fatality rate of Cessna: 15.65%\n",
      "Fatality rate of Piper: 19.53%\n",
      "\n",
      "Average fatality rate: 18.23%\n"
     ]
    }
   ],
   "source": [
    "# Fatality rate of Cessna and Piper\n",
    "cessna_injury_rates = df.loc[df['Make'] == 'Cessna']['Injury.Severity'].value_counts(normalize = True)\n",
    "piper_injury_rates = df.loc[df['Make'] == 'Piper']['Injury.Severity'].value_counts(normalize = True)\n",
    "cessna_fatality = cessna_injury_rates.values[1]\n",
    "piper_fatality = piper_injury_rates.values[1]\n",
    "\n",
    "print(f'Fatality rate of Cessna: {str(round(cessna_fatality * 100, 2))}%')\n",
    "print(f'Fatality rate of Piper: {str(round(piper_fatality * 100, 2))}%')\n",
    "print()\n",
    "print(\"Average fatality rate: \" + str(round(average_fatal * 100, 2)) + '%')"
   ]
  },
  {
   "cell_type": "markdown",
   "id": "43c7cc44",
   "metadata": {},
   "source": [
    "As shown on the bar chart earlier, Cessna is much lower than bother Piper and the average fatality rate which is great! We're taking the right steps in the right dirrection. Piper has a much higher fatality rate then Cessna but its not much higher then the average. There could be hidden varribles that are skewing or affecting the fatalility rate. For example, Piper could have a generally very low fatality rate but they may have made one aircraft that was extremely dangerous to fly which affects how the data is portrayed, there is a chance that in general, most Piper models are safer than most Cessna models. Thats why its important for us to dig a little deeper before we make a recomendation"
   ]
  },
  {
   "cell_type": "code",
   "execution_count": 10,
   "id": "2a1c5f5d",
   "metadata": {},
   "outputs": [],
   "source": [
    "cessna_models = df.loc[df['Make'] == 'Cessna']['Model'].value_counts().head(25)\n",
    "piper_models = df.loc[df['Make'] == 'Piper']['Model'].value_counts().head(25)"
   ]
  },
  {
   "cell_type": "code",
   "execution_count": 13,
   "id": "5a3dfe95",
   "metadata": {},
   "outputs": [
    {
     "data": {
      "image/png": "[encoded data removed]",
      "text/plain": [
       "<Figure size 1800x500 with 1 Axes>"
      ]
     },
     "metadata": {},
     "output_type": "display_data"
    }
   ],
   "source": [
    "# Extract list of 25 Cessna models most frequently involved in accidents\n",
    "ces_model_top25 = cessna_models.index.tolist()\n",
    "\n",
    "# Only keep data with a model in the top list\n",
    "ces_model_data = injury_data[injury_data['Model'].isin(ces_model_top25)]\n",
    "\n",
    "# Percentage fatality by Cessna model\n",
    "ces_model_fatal = ces_model_data.groupby('Model')['Injury.Severity'].value_counts(normalize = True).unstack('Injury.Severity').reindex(ces_model_top25)\n",
    "ces_model_fatal.plot.bar(stacked = True, figsize=(18,5), width = 0.8, color = ['#003366','#2990EA'])\n",
    "\n",
    "# Line with average fatality\n",
    "plt.axhline(y = cessna_fatality, color = 'g', linestyle = '-')\n",
    "plt.axhline(y = average_fatal, color = 'r', linestyle = '-')\n",
    "\n",
    "#Formatting\n",
    "plt.gca().yaxis.set_major_formatter(PercentFormatter(1))\n",
    "plt.title('Fatality rate by Cesna Model')\n",
    "plt.legend(title = \"Injury Severity\", loc='upper right')\n",
    "plt.xlabel('Model of airplane')\n",
    "plt.ylabel('Fatality Rate')\n",
    "plt.show()"
   ]
  },
  {
   "cell_type": "code",
   "execution_count": 17,
   "id": "c204abba",
   "metadata": {},
   "outputs": [
    {
     "data": {
      "text/plain": [
       "Model\n",
       "172      530\n",
       "172N     332\n",
       "180      304\n",
       "152      289\n",
       "172M     260\n",
       "182      247\n",
       "170B     193\n",
       "150      193\n",
       "140      182\n",
       "182P     147\n",
       "172P     145\n",
       "172S     144\n",
       "150M     121\n",
       "182Q     114\n",
       "177      110\n",
       "A185F    110\n",
       "150L     106\n",
       "177RG     91\n",
       "210       90\n",
       "172K      87\n",
       "150F      87\n",
       "P210N     86\n",
       "170       86\n",
       "185       79\n",
       "120       76\n",
       "Name: count, dtype: int64"
      ]
     },
     "execution_count": 17,
     "metadata": {},
     "output_type": "execute_result"
    }
   ],
   "source": [
    "# The Graph is sorted from most data points in descending order\n",
    "cessna_models"
   ]
  },
  {
   "cell_type": "markdown",
   "id": "e7021343",
   "metadata": {},
   "source": [
    "So it looks like there are some Cessna models that are not only above the Cessna average fatality rate, **but the general average as well**. This is why its so important to make sure you do your due dilligence and go through all possibilities with your data. The Graph is sorted in descending order from its value count, so ideally we want the lowest fatality rate, closest to the left. and it looks like we have some pretty strong data recomendations!\n",
    "\n",
    "Based of the data given, For purely Cessna models I would recommend:\n",
    "\n",
    "- Cessna 172 (530 Values)\n",
    "- Cessna 180 (304 Values)\n",
    "- Cessna 170B (193 Values)\n",
    "\n",
    "After cleaning all the data, visualizing everything, and establishing a metric of safety. I believe the lowest risk and best investments to make are on the aforementioned models"
   ]
  },
  {
   "cell_type": "code",
   "execution_count": 14,
   "id": "49abc510",
   "metadata": {},
   "outputs": [
    {
     "data": {
      "image/png": "[encoded data removed]",
      "text/plain": [
       "<Figure size 1800x500 with 1 Axes>"
      ]
     },
     "metadata": {},
     "output_type": "display_data"
    }
   ],
   "source": [
    "# Extract list of 25 Piper models most frequently involved in accidents\n",
    "pip_model_top25 = piper_models.index.tolist()\n",
    "\n",
    "# Only keep data with a model in the top list\n",
    "pip_model_data = injury_data[injury_data['Model'].isin(pip_model_top25)]\n",
    "\n",
    "# Percentage fatality by Piper model\n",
    "pip_model_fatal = pip_model_data.groupby('Model')['Injury.Severity'].value_counts(normalize = True).unstack('Injury.Severity').reindex(pip_model_top25)\n",
    "pip_model_fatal.plot.bar(stacked = True, figsize=(18,5), width = 0.8, color = ['#003366','#2990EA'])\n",
    "\n",
    "# Line with average fatalitys\n",
    "plt.axhline(y = piper_fatality, color = 'g', linestyle = '-')\n",
    "plt.axhline(y = average_fatal, color = 'r', linestyle = '-')\n",
    "\n",
    "#Formatting\n",
    "plt.gca().yaxis.set_major_formatter(PercentFormatter(1))\n",
    "plt.title('Fatality rate by Cesna Model')\n",
    "plt.legend(title = \"Injury Severity\", loc='upper right')\n",
    "plt.xlabel('Model of airplane')\n",
    "plt.ylabel('Fatality Rate')\n",
    "plt.show()"
   ]
  },
  {
   "cell_type": "code",
   "execution_count": 16,
   "id": "5b8cef30",
   "metadata": {},
   "outputs": [
    {
     "data": {
      "text/plain": [
       "Model\n",
       "PA-28-140     288\n",
       "PA-28-180     241\n",
       "PA-18-150     236\n",
       "PA-18         190\n",
       "PA-28-181     173\n",
       "PA28          141\n",
       "PA-24-250     138\n",
       "PA-12         133\n",
       "PA-28-161     118\n",
       "J3C-65        113\n",
       "PA-32-300     109\n",
       "PA-22-150     107\n",
       "PA-28R-200    100\n",
       "PA-30          88\n",
       "PA-28-235      85\n",
       "PA-32-260      76\n",
       "PA-22          72\n",
       "PA-28-151      66\n",
       "PA18           63\n",
       "PA-32R-300     62\n",
       "PA-38-112      62\n",
       "PA-23-250      58\n",
       "PA-34-200T     55\n",
       "PA-22-160      51\n",
       "PA-20          50\n",
       "Name: count, dtype: int64"
      ]
     },
     "execution_count": 16,
     "metadata": {},
     "output_type": "execute_result"
    }
   ],
   "source": [
    "# The Graph is sorted from most data points in descending order\n",
    "piper_models"
   ]
  },
  {
   "cell_type": "markdown",
   "id": "8ebd5c47",
   "metadata": {},
   "source": [
    "The Piper set is noticably smaller than the Cessna set, I dont feel entirely comfortable taking more than 2 models from Piper because of that reasoning. I believe theres only two reliable sources of data within this set as the amount of data get extremely small towards the right side.\n",
    "\n",
    "However This did yield pretty good results, As for Business Recomendations for strictly piper models:\n",
    "\n",
    "- Piper PA-18-150 (236 values)\n",
    "- Piper PA-18     (190 values)\n",
    "\n",
    "I can concretely say that the 5 safest airplanes for Landmark Airlines to invest in are:\n",
    "\n",
    "- Cessna 172 (530 Values)\n",
    "- Cessna 180 (304 Values)\n",
    "- Piper PA-18-150 (236 values)\n",
    "- Cessna 170B (193 Values)\n",
    "- Piper PA-18     (190 values)"
   ]
  },
  {
   "cell_type": "markdown",
   "id": "ae93594e",
   "metadata": {},
   "source": [
    "# Data Visualization: Weather Conditions"
   ]
  },
  {
   "cell_type": "code",
   "execution_count": null,
   "id": "59e71349",
   "metadata": {},
   "outputs": [],
   "source": []
  }
 ],
 "metadata": {
  "kernelspec": {
   "display_name": "Python 3 (ipykernel)",
   "language": "python",
   "name": "python3"
  },
  "language_info": {
   "codemirror_mode": {
    "name": "ipython",
    "version": 3
   },
   "file_extension": ".py",
   "mimetype": "text/x-python",
   "name": "python",
   "nbconvert_exporter": "python",
   "pygments_lexer": "ipython3",
   "version": "3.9.16"
  }
 },
 "nbformat": 4,
 "nbformat_minor": 5
}
